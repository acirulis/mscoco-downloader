{
 "cells": [
  {
   "cell_type": "code",
   "execution_count": 2,
   "metadata": {},
   "outputs": [
    {
     "name": "stdout",
     "output_type": "stream",
     "text": [
      "loading annotations into memory...\n",
      "Done (t=15.50s)\n",
      "creating index...\n",
      "index created!\n",
      "COCO categories: \n",
      "\n",
      " person; bicycle; car; motorcycle; airplane; bus; train; truck; boat; traffic light; fire hydrant; stop sign; parking meter; bench; bird; cat; dog; horse; sheep; cow; elephant; bear; zebra; giraffe; backpack; umbrella; handbag; tie; suitcase; frisbee; skis; snowboard; sports ball; kite; baseball bat; baseball glove; skateboard; surfboard; tennis racket; bottle; wine glass; cup; fork; knife; spoon; bowl; banana; apple; sandwich; orange; broccoli; carrot; hot dog; pizza; donut; cake; chair; couch; potted plant; bed; dining table; toilet; tv; laptop; mouse; remote; keyboard; cell phone; microwave; oven; toaster; sink; refrigerator; book; clock; vase; scissors; teddy bear; hair drier; toothbrush\n"
     ]
    }
   ],
   "source": [
    "from pycocotools.coco import COCO\n",
    "import numpy as np\n",
    "import skimage.io as io\n",
    "import matplotlib.pyplot as plt\n",
    "import pylab\n",
    "import urllib.request\n",
    "\n",
    "pylab.rcParams['figure.figsize'] = (10.0, 8.0)\n",
    "\n",
    "dataDir = '.'\n",
    "dataType = 'train2017'\n",
    "annFile = '%s/annotations/instances_%s.json' % (dataDir, dataType)\n",
    "\n",
    "coco = COCO(annFile)\n",
    "\n",
    "# display COCO categories and supercategories\n",
    "cats = coco.loadCats(coco.getCatIds())\n",
    "nms = [cat['name'] for cat in cats]\n",
    "print('COCO categories: \\n\\n', '; '.join(nms))\n"
   ]
  },
  {
   "cell_type": "code",
   "execution_count": 12,
   "metadata": {},
   "outputs": [
    {
     "name": "stdout",
     "output_type": "stream",
     "text": [
      "[3, 6, 7, 8]\n",
      "truck\n"
     ]
    }
   ],
   "source": [
    "catIds = coco.getCatIds(catNms=['truck'])\n",
    "catIds_all = coco.getCatIds(catNms=['car', 'truck', 'bus', 'train'])\n",
    "imgIds = coco.getImgIds(catIds=catIds)\n",
    "\n",
    "print(catIds_all)\n",
    "\n",
    "catNames = {0: 'car', 1: 'truck', 2: 'bus', 3: 'train'}\n",
    "\n",
    "print(catNames[1])"
   ]
  },
  {
   "cell_type": "code",
   "execution_count": 13,
   "metadata": {
    "collapsed": true
   },
   "outputs": [],
   "source": [
    "imgs = coco.loadImgs([163897])"
   ]
  },
  {
   "cell_type": "code",
   "execution_count": 14,
   "metadata": {},
   "outputs": [
    {
     "name": "stdout",
     "output_type": "stream",
     "text": [
      "000000163897.jpg\n"
     ]
    }
   ],
   "source": [
    "i = 0\n",
    "for img in imgs:\n",
    "    i = i + 1\n",
    "    print(img['file_name'])\n",
    "    if (i) > 10:\n",
    "        break"
   ]
  },
  {
   "cell_type": "code",
   "execution_count": 19,
   "metadata": {},
   "outputs": [
    {
     "name": "stdout",
     "output_type": "stream",
     "text": [
      "163897\n",
      "[{'category_id': 8, 'id': 400855, 'area': 62902.14845000001, 'iscrowd': 0, 'segmentation': [[467.11, 243.86, 466.04, 278.22, 451.01, 286.82, 429.53, 279.3, 423.09, 248.16, 207.25, 244.94, 151.41, 281.45, 133.15, 250.31, 119.19, 123.59, 139.6, 112.86, 221.21, 107.49, 236.24, 66.68, 254.5, 57.02, 356.51, 46.28, 429.53, 48.43, 433.83, 58.09, 443.49, 103.19, 473.56, 109.63, 480.0, 200.91, 477.85, 228.83, 471.41, 237.42]], 'image_id': 163897, 'bbox': [119.19, 46.28, 360.81, 240.54]}]\n",
      "{'id': 163897, 'coco_url': 'http://images.cocodataset.org/train2017/000000163897.jpg', 'width': 640, 'flickr_url': 'http://farm9.staticflickr.com/8328/8110119451_d1e25bcd00_z.jpg', 'file_name': '000000163897.jpg', 'license': 4, 'height': 480, 'date_captured': '2013-11-17 19:26:13'}\n"
     ]
    }
   ],
   "source": [
    "print(img['id'])\n",
    "\n",
    "annIds = coco.getAnnIds(imgIds=img['id'], catIds=catIds, iscrowd=None)\n",
    "anns = coco.loadAnns(annIds)\n",
    "\n",
    "print(anns)\n",
    "print(img)\n",
    "\n",
    "with open(\"andis.txt\", \"w\") as text_file:\n",
    "    for ann in anns:\n",
    "        text_file.write('0 %s' % ' '.join([str(x) for x in ann['bbox']]))"
   ]
  },
  {
   "cell_type": "code",
   "execution_count": 35,
   "metadata": {},
   "outputs": [
    {
     "name": "stdout",
     "output_type": "stream",
     "text": [
      "./images/001.txt\n"
     ]
    }
   ],
   "source": [
    "import os\n",
    "img_fname = './images/001.jpg'\n",
    "pre, ext = os.path.splitext(img_fname)\n",
    "ann_fname = pre + \".txt\"\n",
    "print(ann_fname)"
   ]
  }
 ],
 "metadata": {
  "kernelspec": {
   "display_name": "Python 3",
   "language": "python",
   "name": "python3"
  },
  "language_info": {
   "codemirror_mode": {
    "name": "ipython",
    "version": 3
   },
   "file_extension": ".py",
   "mimetype": "text/x-python",
   "name": "python",
   "nbconvert_exporter": "python",
   "pygments_lexer": "ipython3",
   "version": "3.5.3"
  }
 },
 "nbformat": 4,
 "nbformat_minor": 2
}
