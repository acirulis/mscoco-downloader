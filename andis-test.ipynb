{
 "cells": [
  {
   "cell_type": "code",
   "execution_count": 1,
   "metadata": {},
   "outputs": [
    {
     "name": "stdout",
     "output_type": "stream",
     "text": [
      "loading annotations into memory...\n",
      "Done (t=14.76s)\n",
      "creating index...\n",
      "index created!\n",
      "COCO categories: \n",
      "\n",
      " person; bicycle; car; motorcycle; airplane; bus; train; truck; boat; traffic light; fire hydrant; stop sign; parking meter; bench; bird; cat; dog; horse; sheep; cow; elephant; bear; zebra; giraffe; backpack; umbrella; handbag; tie; suitcase; frisbee; skis; snowboard; sports ball; kite; baseball bat; baseball glove; skateboard; surfboard; tennis racket; bottle; wine glass; cup; fork; knife; spoon; bowl; banana; apple; sandwich; orange; broccoli; carrot; hot dog; pizza; donut; cake; chair; couch; potted plant; bed; dining table; toilet; tv; laptop; mouse; remote; keyboard; cell phone; microwave; oven; toaster; sink; refrigerator; book; clock; vase; scissors; teddy bear; hair drier; toothbrush\n"
     ]
    }
   ],
   "source": [
    "from pycocotools.coco import COCO\n",
    "import numpy as np\n",
    "import skimage.io as io\n",
    "import matplotlib.pyplot as plt\n",
    "import pylab\n",
    "import urllib.request\n",
    "\n",
    "pylab.rcParams['figure.figsize'] = (10.0, 8.0)\n",
    "\n",
    "dataDir = '.'\n",
    "dataType = 'train2017'\n",
    "annFile = '%s/annotations/instances_%s.json' % (dataDir, dataType)\n",
    "\n",
    "coco = COCO(annFile)\n",
    "\n",
    "# display COCO categories and supercategories\n",
    "cats = coco.loadCats(coco.getCatIds())\n",
    "nms = [cat['name'] for cat in cats]\n",
    "print('COCO categories: \\n\\n', '; '.join(nms))\n"
   ]
  },
  {
   "cell_type": "code",
   "execution_count": 2,
   "metadata": {
    "collapsed": true
   },
   "outputs": [],
   "source": [
    "catIds = coco.getCatIds(catNms=['truck'])\n",
    "imgIds = coco.getImgIds(catIds=catIds)"
   ]
  },
  {
   "cell_type": "code",
   "execution_count": 4,
   "metadata": {},
   "outputs": [],
   "source": [
    "imgs = coco.loadImgs(imgIds)"
   ]
  },
  {
   "cell_type": "code",
   "execution_count": 12,
   "metadata": {},
   "outputs": [
    {
     "name": "stdout",
     "output_type": "stream",
     "text": [
      "000000262148.jpg\n",
      "000000294918.jpg\n",
      "000000229391.jpg\n",
      "000000458772.jpg\n",
      "000000229415.jpg\n",
      "000000131118.jpg\n",
      "000000524338.jpg\n",
      "000000065586.jpg\n",
      "000000294962.jpg\n",
      "000000262197.jpg\n",
      "000000163897.jpg\n"
     ]
    }
   ],
   "source": [
    "i = 0\n",
    "for img in imgs:\n",
    "    i = i + 1\n",
    "    print(img['file_name'])\n",
    "    if (i) > 10:\n",
    "        break"
   ]
  },
  {
   "cell_type": "code",
   "execution_count": 31,
   "metadata": {},
   "outputs": [
    {
     "name": "stdout",
     "output_type": "stream",
     "text": [
      "163897\n",
      "0 119.19 46.28 360.81 240.54\n"
     ]
    }
   ],
   "source": [
    "print(img['id'])\n",
    "\n",
    "annIds = coco.getAnnIds(imgIds=img['id'], catIds=catIds, iscrowd=None)\n",
    "anns = coco.loadAnns(annIds)\n",
    "\n",
    "with open(\"andis.txt\", \"w\") as text_file:\n",
    "    for ann in anns:\n",
    "        text_file.write('0 %s' % ' '.join([str(x) for x in ann['bbox']]))"
   ]
  },
  {
   "cell_type": "code",
   "execution_count": 35,
   "metadata": {},
   "outputs": [
    {
     "name": "stdout",
     "output_type": "stream",
     "text": [
      "./images/001.txt\n"
     ]
    }
   ],
   "source": [
    "import os\n",
    "img_fname = './images/001.jpg'\n",
    "pre, ext = os.path.splitext(img_fname)\n",
    "ann_fname = pre + \".txt\"\n",
    "print(ann_fname)"
   ]
  }
 ],
 "metadata": {
  "kernelspec": {
   "display_name": "Python 3",
   "language": "python",
   "name": "python3"
  },
  "language_info": {
   "codemirror_mode": {
    "name": "ipython",
    "version": 3
   },
   "file_extension": ".py",
   "mimetype": "text/x-python",
   "name": "python",
   "nbconvert_exporter": "python",
   "pygments_lexer": "ipython3",
   "version": "3.5.3"
  }
 },
 "nbformat": 4,
 "nbformat_minor": 2
}
